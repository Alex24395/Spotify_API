{
 "cells": [
  {
   "cell_type": "code",
   "execution_count": 65,
   "metadata": {},
   "outputs": [],
   "source": [
    "# Import libs\n",
    "import os\n",
    "import pandas as pd\n",
    "import numpy as np\n",
    "import matplotlib.pyplot as plt"
   ]
  },
  {
   "cell_type": "code",
   "execution_count": 82,
   "metadata": {},
   "outputs": [
    {
     "data": {
      "text/plain": [
       "artist_name                          Jason Mraz\n",
       "song_name           Welcome To Schubas - Medley\n",
       "popularity                                   24\n",
       "duration_ms                             2054800\n",
       "danceability                              0.479\n",
       "energy                                    0.374\n",
       "key                                           6\n",
       "loudness                                -10.165\n",
       "mode                                          0\n",
       "speechiness                              0.0439\n",
       "acousticness                              0.809\n",
       "instrumentalness                              0\n",
       "liveness                                  0.982\n",
       "valence                                   0.416\n",
       "tempo                                     98.41\n",
       "time_signature                                4\n",
       "Name: 564, dtype: object"
      ]
     },
     "execution_count": 82,
     "metadata": {},
     "output_type": "execute_result"
    }
   ],
   "source": [
    "main_dir = os.path.dirname(os.getcwd())\n",
    "csv_file = main_dir + \"/data/spotify_songs.csv\"\n",
    "\n",
    "# Import dataset\n",
    "df = pd.read_csv(csv_file)\n",
    "\n",
    "df.loc[df['duration_ms'].idxmax()]"
   ]
  },
  {
   "cell_type": "code",
   "execution_count": null,
   "metadata": {},
   "outputs": [],
   "source": []
  }
 ],
 "metadata": {
  "kernelspec": {
   "display_name": "Python 3",
   "language": "python",
   "name": "python3"
  },
  "language_info": {
   "codemirror_mode": {
    "name": "ipython",
    "version": 3
   },
   "file_extension": ".py",
   "mimetype": "text/x-python",
   "name": "python",
   "nbconvert_exporter": "python",
   "pygments_lexer": "ipython3",
   "version": "3.6.4"
  }
 },
 "nbformat": 4,
 "nbformat_minor": 2
}
